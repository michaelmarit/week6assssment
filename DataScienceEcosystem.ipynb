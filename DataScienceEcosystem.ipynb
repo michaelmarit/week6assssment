{
 "cells": [
  {
   "cell_type": "markdown",
   "id": "19d458c8-7144-4ffe-a639-86e6d7d47acc",
   "metadata": {},
   "source": [
    "#Data Science Tools and Ecosystem"
   ]
  },
  {
   "cell_type": "markdown",
   "id": "6bc0157e-9fcc-4f1d-a7b8-f7e868c2aaac",
   "metadata": {},
   "source": [
    "In this notebook, Data Science Tools and Ecosystem are summarized."
   ]
  },
  {
   "cell_type": "markdown",
   "id": "6ee8183b-fbc9-48e0-8028-e153f7024c3f",
   "metadata": {},
   "source": [
    "**Objectives**\n",
    "- list popular languages used by data scientists\n",
    "- list commonly used libraries used by data scientists\n",
    "- include a table with data science tools\n",
    "- perform simple arithmetic in Python code\n",
    "\n",
    "##Author\n",
    "Michael Marit"
   ]
  },
  {
   "cell_type": "markdown",
   "id": "8f330521-ff25-4833-accb-d9ac9a264d66",
   "metadata": {},
   "source": [
    "Some of the popular languages that Data Scientists use are:\n",
    "1. Python\n",
    "2. R\n",
    "3. SQL\n",
    "4. Scala\n",
    "5. Java\n",
    "6. C++\n",
    "7. JavaScript\n",
    "8. Julia"
   ]
  },
  {
   "cell_type": "markdown",
   "id": "f5db22be-15e0-47be-b53a-142e790428e0",
   "metadata": {},
   "source": [
    "Some of the commonly used libraries used by Data Scientists include:\n",
    "1. Pandas\n",
    "2. NumPy\n",
    "3. Matplotlib\n",
    "4. Seaborn\n",
    "5. Scikit-learn\n",
    "6. Keras\n",
    "7. TensorFlow\n",
    "8. PyTorch"
   ]
  },
  {
   "cell_type": "markdown",
   "id": "d0288a57-5750-4878-8bdb-cfa13268ad10",
   "metadata": {},
   "source": [
    "| Data Science Tools |\n",
    "|--------------------|\n",
    "|Jupyter Lab         |\n",
    "|Anaconda            |\n",
    "|RStudio             |"
   ]
  },
  {
   "cell_type": "markdown",
   "id": "8865cfae-6242-462b-a5c9-d6ae3953dc36",
   "metadata": {},
   "source": [
    "###Below are a few examples of evaluating arithmetic expressions in Python"
   ]
  },
  {
   "cell_type": "code",
   "execution_count": 1,
   "id": "2a20913b-e482-4061-89ca-af35ef59e470",
   "metadata": {
    "tags": []
   },
   "outputs": [
    {
     "data": {
      "text/plain": [
       "17"
      ]
     },
     "execution_count": 1,
     "metadata": {},
     "output_type": "execute_result"
    }
   ],
   "source": [
    "#This a simple arithmetic expression to mutiply then add integers\n",
    "(3*4)+5"
   ]
  },
  {
   "cell_type": "code",
   "execution_count": 2,
   "id": "45ff4017-4456-45ee-94c5-277a6f3a8865",
   "metadata": {
    "tags": []
   },
   "outputs": [
    {
     "data": {
      "text/plain": [
       "3.3333333333333335"
      ]
     },
     "execution_count": 2,
     "metadata": {},
     "output_type": "execute_result"
    }
   ],
   "source": [
    "#This will convert 200 minutes to hours by diving by 60\n",
    "200/60"
   ]
  },
  {
   "cell_type": "code",
   "execution_count": null,
   "id": "fa524a86-ee13-4a26-bbdc-a7425d64f94b",
   "metadata": {},
   "outputs": [],
   "source": []
  }
 ],
 "metadata": {
  "kernelspec": {
   "display_name": "Python",
   "language": "python",
   "name": "conda-env-python-py"
  },
  "language_info": {
   "codemirror_mode": {
    "name": "ipython",
    "version": 3
   },
   "file_extension": ".py",
   "mimetype": "text/x-python",
   "name": "python",
   "nbconvert_exporter": "python",
   "pygments_lexer": "ipython3",
   "version": "3.7.12"
  }
 },
 "nbformat": 4,
 "nbformat_minor": 5
}
